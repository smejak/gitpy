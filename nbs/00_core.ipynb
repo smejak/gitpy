{
 "cells": [
  {
   "cell_type": "code",
   "execution_count": null,
   "metadata": {},
   "outputs": [],
   "source": [
    "# default_exp core"
   ]
  },
  {
   "cell_type": "markdown",
   "metadata": {},
   "source": [
    "# GitPy\n",
    "\n",
    "> Python wrappers for GitHub API"
   ]
  },
  {
   "cell_type": "code",
   "execution_count": null,
   "metadata": {},
   "outputs": [],
   "source": [
    "#hide\n",
    "from nbdev.showdoc import *"
   ]
  },
  {
   "cell_type": "code",
   "execution_count": null,
   "metadata": {},
   "outputs": [],
   "source": [
    "import requests\n",
    "\n",
    "def list_gists(auth):\n",
    "    headers = {\n",
    "    'Accept': 'application/vnd.github.v3+json',\n",
    "    'Authorization': f'token {auth}',\n",
    "    }\n",
    "\n",
    "    response = requests.get('https://api.github.com/gists', headers=headers)\n",
    "    return response"
   ]
  },
  {
   "cell_type": "code",
   "execution_count": null,
   "metadata": {},
   "outputs": [],
   "source": [
    "def create_gist(auth, file_path, description):\n",
    "    headers = {\n",
    "    'Accept': 'application/vnd.github.v3+json',\n",
    "    'Authorization': f'token {auth}',\n",
    "    'Content-Type': 'application/x-www-form-urlencoded',\n",
    "    }\n",
    "    content = \n",
    "    data = '{\"description\":\"Example of a gist\",\"public\":false,\"files\":{\"README.md\":{\"content\":\"Hello World\"}}}'\n",
    "\n",
    "    response = requests.post('https://api.github.com/gists', headers=headers, data=data)"
   ]
  },
  {
   "cell_type": "code",
   "execution_count": null,
   "metadata": {},
   "outputs": [],
   "source": []
  }
 ],
 "metadata": {
  "kernelspec": {
   "display_name": "dev",
   "language": "python",
   "name": "dev"
  }
 },
 "nbformat": 4,
 "nbformat_minor": 4
}
